{
 "cells": [
  {
   "cell_type": "markdown",
   "id": "8a5a5d24",
   "metadata": {},
   "source": [
    "# Uploading"
   ]
  },
  {
   "cell_type": "code",
   "execution_count": null,
   "id": "bcda2208",
   "metadata": {},
   "outputs": [],
   "source": [
    "from prescient_sdk.upload import upload\n",
    "from prescient_sdk.client import PrescientClient\n",
    "client = PrescientClient(env_file=\"config.env\")"
   ]
  },
  {
   "cell_type": "markdown",
   "id": "d0adfc44",
   "metadata": {},
   "source": [
    "For a directory `test_upload/` containing\n",
    "\n",
    "```\n",
    "test_upload\n",
    "├── subdir\n",
    "│   └── test.tif\n",
    "├── test.csv\n",
    "└── test.txt\n",
    "```\n",
    "\n",
    "to upload"
   ]
  },
  {
   "cell_type": "code",
   "execution_count": null,
   "id": "30c01dd9",
   "metadata": {},
   "outputs": [],
   "source": [
    "upload(\"test_upload\", prescient_client=client)"
   ]
  },
  {
   "cell_type": "markdown",
   "id": "dbe00293",
   "metadata": {},
   "source": [
    "To exclude files from being uploaded with certain suffixes"
   ]
  },
  {
   "cell_type": "code",
   "execution_count": 4,
   "id": "8a87ab38",
   "metadata": {},
   "outputs": [],
   "source": [
    "upload(\"test_upload\", prescient_client=client, exclude=[\"*.txt\", \"*.csv\"])"
   ]
  },
  {
   "cell_type": "markdown",
   "id": "c37744d4",
   "metadata": {},
   "source": [
    "To skip uploading of files that would overwrite an existing key (default behaviour) specify `overwrite=False`. You can see helpful logging messages that illustrate whether a particular file was uploaded or skipped."
   ]
  },
  {
   "cell_type": "code",
   "execution_count": 5,
   "id": "d0412b40",
   "metadata": {},
   "outputs": [
    {
     "name": "stderr",
     "output_type": "stream",
     "text": [
      "INFO:prescient_sdk.upload:found 3 files to upload\n",
      "INFO:prescient_sdk.upload:skipping file test_upload/test.txt as it already exists at s3://upload.enexus.server.prescient.earth/test_upload/test.txt\n",
      "INFO:prescient_sdk.upload:skipping file test_upload/test.csv as it already exists at s3://upload.enexus.server.prescient.earth/test_upload/test.csv\n",
      "INFO:prescient_sdk.upload:skipping file test_upload/subdir/test.tif as it already exists at s3://upload.enexus.server.prescient.earth/test_upload/subdir/test.tif\n"
     ]
    }
   ],
   "source": [
    "import logging\n",
    "\n",
    "logging.basicConfig(level=logging.INFO)\n",
    "upload(\"test_upload\", prescient_client=client, overwrite=False)"
   ]
  },
  {
   "cell_type": "markdown",
   "id": "ddba2683",
   "metadata": {},
   "source": []
  },
  {
   "cell_type": "code",
   "execution_count": null,
   "id": "87f1bf22",
   "metadata": {},
   "outputs": [],
   "source": []
  }
 ],
 "metadata": {
  "kernelspec": {
   "display_name": "prescient-sdk",
   "language": "python",
   "name": "python3"
  },
  "language_info": {
   "codemirror_mode": {
    "name": "ipython",
    "version": 3
   },
   "file_extension": ".py",
   "mimetype": "text/x-python",
   "name": "python",
   "nbconvert_exporter": "python",
   "pygments_lexer": "ipython3",
   "version": "3.12.7"
  }
 },
 "nbformat": 4,
 "nbformat_minor": 5
}
