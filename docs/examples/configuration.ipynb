{
 "cells": [
  {
   "cell_type": "markdown",
   "metadata": {},
   "source": [
    "# Handling Configuration\n",
    "\n",
    "There are three ways to configure the `PrescientClient`:\n",
    "\n",
    "1. Set the values inline using the `Settings` object directly\n",
    "1. Use a DotEnv file located in the project directory\n",
    "1. Set environment variables"
   ]
  },
  {
   "cell_type": "markdown",
   "metadata": {},
   "source": [
    "## 1. Set the values inline using the `Settings` object\n",
    "\n",
    "Note that configuration values set in this way will take precendence over all other methods."
   ]
  },
  {
   "cell_type": "code",
   "execution_count": 2,
   "metadata": {},
   "outputs": [],
   "source": [
    "from prescient_sdk.client import PrescientClient\n",
    "from prescient_sdk.config import Settings\n",
    "\n",
    "settings = Settings(\n",
    "    endpoint_url=\"https://example.server.prescient.earth\",\n",
    "    aws_region=\"us-west-2\",\n",
    "    aws_role=\"arn:aws:iam::some:role\",\n",
    "    azure_tenant_id=\"a-tenant-id\",\n",
    "    azure_client_id=\"a-client-id\",\n",
    "    azure_auth_url=\"https://auth-url.com\",\n",
    "    azure_auth_token_path=\"/path/to/oauth2/token\",\n",
    ")\n",
    "\n",
    "client = PrescientClient(settings)"
   ]
  },
  {
   "cell_type": "markdown",
   "metadata": {},
   "source": [
    "## 2. Use a DotEnv file located in the project directory\n",
    "\n",
    "An alternative to the above method is to use a DotEnv file (`config.env`) located in the current working directory.\n",
    "\n",
    "Note that when using a Jupyter Notebook, most often you will need to put the `config.env` file in the same folder as where the notebook exists.\n",
    "\n",
    "```\n",
    "ENDPOINT_URL=\"https://example.server.prescient.earth\"\n",
    "AWS_REGION=\"us-west-2\"\n",
    "AWS_ROLE=\"arn:aws:iam::some:role\"\n",
    "AZURE_TENANT_ID=\"a-tenant-id\"\n",
    "AZURE_CLIENT_ID=\"a-client-id\"\n",
    "AZURE_AUTH_URL=\"https://auth-url.com\"\n",
    "AZURE_AUTH_TOKEN_PATH=\"/path/to/oauth2/token\"\n",
    "```\n",
    "\n",
    "Note that in this case, each configuration value is capitalized"
   ]
  },
  {
   "cell_type": "code",
   "execution_count": null,
   "metadata": {},
   "outputs": [],
   "source": [
    "# The env file is read in automatically, so you can just do this:\n",
    "client = PrescientClient()"
   ]
  },
  {
   "cell_type": "markdown",
   "metadata": {},
   "source": [
    "## 3. Use environment variables\n",
    "\n",
    "If you set environment variables **and** use a DotEnv file, each environment variable that is set will override the corresponding value in the DotEnv file.\n",
    "\n",
    "Environment variables must have the same format as the DotEnv variables, capitalized and given a prefix of `PRESCIENT_`\n",
    "\n",
    "As an example, if you are using a bash shell, you can set a single variable like so:\n",
    "```\n",
    "export PRESCIENT_ENDPOINT_URL=\"https://example.server.prescient.earth\"\n",
    "```"
   ]
  },
  {
   "cell_type": "code",
   "execution_count": null,
   "metadata": {},
   "outputs": [],
   "source": [
    "# Environment Variables are read in automatically, so you can just do this:\n",
    "client = PrescientClient()"
   ]
  }
 ],
 "metadata": {
  "kernelspec": {
   "display_name": ".venv",
   "language": "python",
   "name": "python3"
  },
  "language_info": {
   "codemirror_mode": {
    "name": "ipython",
    "version": 3
   },
   "file_extension": ".py",
   "mimetype": "text/x-python",
   "name": "python",
   "nbconvert_exporter": "python",
   "pygments_lexer": "ipython3",
   "version": "3.12.6"
  }
 },
 "nbformat": 4,
 "nbformat_minor": 2
}
