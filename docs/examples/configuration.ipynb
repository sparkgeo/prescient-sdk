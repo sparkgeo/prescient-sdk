{
 "cells": [
  {
   "cell_type": "markdown",
   "metadata": {},
   "source": [
    "# Handling Configuration\n",
    "\n",
    "There are three ways to configure the `PrescientClient`:\n",
    "\n",
    "1. Set the values inline using the `Settings` object directly\n",
    "1. Use a DotEnv file located in the project directory\n",
    "1. Set environment variables"
   ]
  },
  {
   "cell_type": "markdown",
   "metadata": {},
   "source": [
    "## 1. Set the values inline using the `Settings` object\n",
    "\n",
    "Note that configuration values set in this way will take precendence over all other methods."
   ]
  },
  {
   "cell_type": "code",
   "execution_count": 1,
   "metadata": {},
   "outputs": [],
   "source": [
    "from prescient_sdk.client import PrescientClient\n",
    "from prescient_sdk.config import Settings\n",
    "\n",
    "settings = Settings(\n",
    "    prescient_endpoint_url=\"https://example.server.prescient.earth\",\n",
    "    prescient_aws_region=\"us-west-2\",\n",
    "    prescient_aws_role=\"arn:aws:iam::some:role\",\n",
    "    prescient_tenant_id=\"a-tenant-id\",\n",
    "    prescient_client_id=\"a-client-id\",\n",
    "    prescient_auth_url=\"https://auth-url.com\",\n",
    "    prescient_auth_token_path=\"/path/to/oauth2/token\",\n",
    ")\n",
    "\n",
    "client = PrescientClient(settings=settings)"
   ]
  },
  {
   "cell_type": "markdown",
   "metadata": {},
   "source": [
    "## 2. Use a DotEnv file\n",
    "\n",
    "An alternative to the above method is to use a DotEnv file following this format:\n",
    "\n",
    "```\n",
    "PRESCIENT_ENDPOINT_URL=\"https://example.server.prescient.earth\"\n",
    "PRESCIENT_AWS_REGION=\"us-west-2\"\n",
    "PRESCIENT_AWS_ROLE=\"arn:aws:iam::some:role\"\n",
    "PRESCIENT_TENANT_ID=\"a-tenant-id\"\n",
    "PRESCIENT_CLIENT_ID=\"a-client-id\"\n",
    "PRESCIENT_AUTH_URL=\"https://auth-url.com\"\n",
    "PRESCIENT_AUTH_TOKEN_PATH=\"/path/to/oauth2/token\"\n",
    "```\n",
    "\n",
    "Note that in this case, each configuration value is capitalized"
   ]
  },
  {
   "cell_type": "code",
   "execution_count": null,
   "metadata": {},
   "outputs": [],
   "source": [
    "# The path to where you store the env_file must be specified\n",
    "client = PrescientClient(env_file=\"/path/to/env_file\")"
   ]
  },
  {
   "cell_type": "markdown",
   "metadata": {},
   "source": [
    "## 3. Use environment variables\n",
    "\n",
    "If you set environment variables **and** use a DotEnv file, each environment variable that is set will override the corresponding value in the DotEnv file.\n",
    "\n",
    "Environment variables must be capitalized\n",
    "\n",
    "As an example, if you are using a bash shell, you can set a single variable like so:\n",
    "```\n",
    "export PRESCIENT_ENDPOINT_URL=\"https://example.server.prescient.earth\"\n",
    "```"
   ]
  },
  {
   "cell_type": "code",
   "execution_count": null,
   "metadata": {},
   "outputs": [],
   "source": [
    "# Environment Variables are read in automatically, so you can just do this:\n",
    "client = PrescientClient()"
   ]
  }
 ],
 "metadata": {
  "kernelspec": {
   "display_name": ".venv",
   "language": "python",
   "name": "python3"
  },
  "language_info": {
   "codemirror_mode": {
    "name": "ipython",
    "version": 3
   },
   "file_extension": ".py",
   "mimetype": "text/x-python",
   "name": "python",
   "nbconvert_exporter": "python",
   "pygments_lexer": "ipython3",
   "version": "3.12.6"
  }
 },
 "nbformat": 4,
 "nbformat_minor": 2
}
