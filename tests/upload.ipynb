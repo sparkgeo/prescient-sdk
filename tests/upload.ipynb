{
 "cells": [
  {
   "cell_type": "code",
   "execution_count": null,
   "id": "bcda2208",
   "metadata": {},
   "outputs": [],
   "source": [
    "from prescient_sdk.upload import upload"
   ]
  },
  {
   "cell_type": "markdown",
   "id": "d0adfc44",
   "metadata": {},
   "source": [
    "For a directory `test_upload/` containing\n",
    "\n",
    "```\n",
    "data\n",
    "├── subdir\n",
    "│   └── test.tif\n",
    "├── test.csv\n",
    "└── test.txt\n",
    "```\n",
    "\n",
    "to upload"
   ]
  },
  {
   "cell_type": "code",
   "execution_count": null,
   "id": "30c01dd9",
   "metadata": {},
   "outputs": [],
   "source": [
    "upload(\n",
    "    \"test_upload\",\n",
    ")"
   ]
  },
  {
   "cell_type": "markdown",
   "id": "dbe00293",
   "metadata": {},
   "source": [
    "To exclude files from being uploaded with certain suffixes"
   ]
  },
  {
   "cell_type": "code",
   "execution_count": null,
   "id": "8a87ab38",
   "metadata": {},
   "outputs": [],
   "source": [
    "upload(\n",
    "    \"test_upload\",\n",
    "    exclude=[\"*.txt\", \"*.csv\"]\n",
    ")"
   ]
  },
  {
   "cell_type": "markdown",
   "id": "c37744d4",
   "metadata": {},
   "source": [
    "To skip uploading of files that would overwrite an existing key (default behaviour) specify `overwrite=False`. You can see helpful logging messages that illustrate whether a particular file was uploaded or skipped."
   ]
  },
  {
   "cell_type": "code",
   "execution_count": null,
   "id": "d0412b40",
   "metadata": {},
   "outputs": [
    {
     "name": "stderr",
     "output_type": "stream",
     "text": [
      "INFO:msal.oauth2cli.authcode:Open a browser on this device to visit: https://login.microsoft.com/c9210036-bbe0-4968-b52b-b316a45f729b/oauth2/v2.0/authorize?client_id=7da8f4ac-b988-4091-869a-a50e4faa665f&response_type=code&redirect_uri=http%3A%2F%2Flocalhost%3A40229&scope=https%3A%2F%2Fgraph.microsoft.com%2F.default+offline_access+openid+profile&state=hLjdNrzGZwBmyEOF&code_challenge=Xqg11OcGPmhkslLPaMLqlypMuyT8jpf_EACDgYbgjds&code_challenge_method=S256&nonce=5fd0034a78b404add11b41b2f328464263342a1fe7d06b8d55b0e2c576e5b221&client_info=1\n",
      "INFO:prescient_sdk.upload:uploading file test_upload/test.txt to s3://upload.enexus.server.prescient.earthtest_upload/test.txt\n",
      "INFO:prescient_sdk.upload:uploading file test_upload/test.csv to s3://upload.enexus.server.prescient.earthtest_upload/test.csv\n",
      "INFO:prescient_sdk.upload:skipping file test_upload/subdir/test.tif as it already exists at s3://upload.enexus.server.prescient.earthtest_upload/subdir/test.tif\n"
     ]
    }
   ],
   "source": [
    "import logging\n",
    "logging.basicConfig(level=logging.INFO)\n",
    "upload(\"test_upload\", overwrite=False)"
   ]
  },
  {
   "cell_type": "code",
   "execution_count": null,
   "id": "87f1bf22",
   "metadata": {},
   "outputs": [],
   "source": []
  }
 ],
 "metadata": {
  "kernelspec": {
   "display_name": "prescient-sdk",
   "language": "python",
   "name": "python3"
  },
  "language_info": {
   "codemirror_mode": {
    "name": "ipython",
    "version": 3
   },
   "file_extension": ".py",
   "mimetype": "text/x-python",
   "name": "python",
   "nbconvert_exporter": "python",
   "pygments_lexer": "ipython3",
   "version": "3.12.7"
  }
 },
 "nbformat": 4,
 "nbformat_minor": 5
}
